{
 "cells": [
  {
   "cell_type": "markdown",
   "id": "70991b23-1956-4856-9f83-21fae44f5d82",
   "metadata": {},
   "source": [
    "**TODO** ~ 14:00"
   ]
  },
  {
   "cell_type": "markdown",
   "id": "a53d2e0a-1c91-4153-b9be-86f905015a9f",
   "metadata": {},
   "source": [
    "![image.png](https://upload.wikimedia.org/wikipedia/commons/thumb/b/b4/PhaseCircuit.svg/750px-PhaseCircuit.png)"
   ]
  },
  {
   "cell_type": "code",
   "execution_count": null,
   "id": "c74bc020-7f68-46bf-be79-3ecde9a00c90",
   "metadata": {},
   "outputs": [],
   "source": []
  }
 ],
 "metadata": {
  "kernelspec": {
   "display_name": "Python 3 (ipykernel)",
   "language": "python",
   "name": "python3"
  },
  "language_info": {
   "codemirror_mode": {
    "name": "ipython",
    "version": 3
   },
   "file_extension": ".py",
   "mimetype": "text/x-python",
   "name": "python",
   "nbconvert_exporter": "python",
   "pygments_lexer": "ipython3",
   "version": "3.8.10"
  }
 },
 "nbformat": 4,
 "nbformat_minor": 5
}
